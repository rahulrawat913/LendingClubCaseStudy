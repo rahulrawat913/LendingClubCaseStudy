{
 "cells": [
  {
   "cell_type": "code",
   "execution_count": 342,
   "id": "06a0d77d",
   "metadata": {},
   "outputs": [],
   "source": [
    "# Importing Libararies\n",
    "\n",
    "import numpy as np\n",
    "import pandas as pd\n",
    "import re\n",
    "from matplotlib import pyplot as plt\n",
    "import seaborn as sns\n",
    "from datetime import datetime"
   ]
  },
  {
   "cell_type": "markdown",
   "id": "8ee651ce",
   "metadata": {},
   "source": [
    "Utility Method to Do some charting"
   ]
  },
  {
   "cell_type": "code",
   "execution_count": 339,
   "id": "e4ed0289",
   "metadata": {},
   "outputs": [],
   "source": [
    "\n",
    "def plot_categorical(category):\n",
    "    sns.barplot(data=loan_dataset,x=category,y='loan_status')\n",
    "    plt.show()"
   ]
  },
  {
   "cell_type": "markdown",
   "id": "dae689bb",
   "metadata": {},
   "source": [
    "Importing Loan Dataset\n"
   ]
  },
  {
   "cell_type": "code",
   "execution_count": 312,
   "id": "90658f79",
   "metadata": {},
   "outputs": [
    {
     "name": "stderr",
     "output_type": "stream",
     "text": [
      "C:\\Users\\rarawat\\AppData\\Local\\Temp\\ipykernel_20248\\4161518942.py:1: DtypeWarning: Columns (47) have mixed types. Specify dtype option on import or set low_memory=False.\n",
      "  loan_dataset=pd.read_csv(\"loan.csv\")\n"
     ]
    }
   ],
   "source": [
    "loan_dataset=pd.read_csv(\"loan.csv\")"
   ]
  },
  {
   "cell_type": "code",
   "execution_count": 317,
   "id": "75b24a16",
   "metadata": {},
   "outputs": [],
   "source": [
    "#find coluns that does not add any values\n",
    "\n",
    "column_with_nulls=loan_dataset.columns[100*(loan_dataset.isnull().sum()/len(loan_dataset.index))>90]"
   ]
  },
  {
   "cell_type": "code",
   "execution_count": 318,
   "id": "b65a66b4",
   "metadata": {},
   "outputs": [],
   "source": [
    "#drop columns_with_nulls\n",
    "loan_dataset.drop(column_with_nulls,axis=1,inplace=True)"
   ]
  },
  {
   "cell_type": "code",
   "execution_count": 319,
   "id": "6db2f257",
   "metadata": {},
   "outputs": [
    {
     "data": {
      "text/plain": [
       "id                             0.000000\n",
       "member_id                      0.000000\n",
       "loan_amnt                      0.000000\n",
       "funded_amnt                    0.000000\n",
       "funded_amnt_inv                0.000000\n",
       "term                           0.000000\n",
       "int_rate                       0.000000\n",
       "installment                    0.000000\n",
       "grade                          0.000000\n",
       "sub_grade                      0.000000\n",
       "emp_title                      6.191303\n",
       "emp_length                     2.706650\n",
       "home_ownership                 0.000000\n",
       "annual_inc                     0.000000\n",
       "verification_status            0.000000\n",
       "issue_d                        0.000000\n",
       "loan_status                    0.000000\n",
       "pymnt_plan                     0.000000\n",
       "url                            0.000000\n",
       "desc                          32.585543\n",
       "purpose                        0.000000\n",
       "title                          0.027696\n",
       "zip_code                       0.000000\n",
       "addr_state                     0.000000\n",
       "dti                            0.000000\n",
       "delinq_2yrs                    0.000000\n",
       "earliest_cr_line               0.000000\n",
       "inq_last_6mths                 0.000000\n",
       "mths_since_last_delinq        64.662487\n",
       "open_acc                       0.000000\n",
       "pub_rec                        0.000000\n",
       "revol_bal                      0.000000\n",
       "revol_util                     0.125891\n",
       "total_acc                      0.000000\n",
       "initial_list_status            0.000000\n",
       "out_prncp                      0.000000\n",
       "out_prncp_inv                  0.000000\n",
       "total_pymnt                    0.000000\n",
       "total_pymnt_inv                0.000000\n",
       "total_rec_prncp                0.000000\n",
       "total_rec_int                  0.000000\n",
       "total_rec_late_fee             0.000000\n",
       "recoveries                     0.000000\n",
       "collection_recovery_fee        0.000000\n",
       "last_pymnt_d                   0.178765\n",
       "last_pymnt_amnt                0.000000\n",
       "last_credit_pull_d             0.005036\n",
       "collections_12_mths_ex_med     0.140998\n",
       "policy_code                    0.000000\n",
       "application_type               0.000000\n",
       "acc_now_delinq                 0.000000\n",
       "chargeoff_within_12_mths       0.140998\n",
       "delinq_amnt                    0.000000\n",
       "pub_rec_bankruptcies           1.754916\n",
       "tax_liens                      0.098195\n",
       "dtype: float64"
      ]
     },
     "execution_count": 319,
     "metadata": {},
     "output_type": "execute_result"
    }
   ],
   "source": [
    "#Rechecking Nulls \n",
    "100*(loan_dataset.isnull().sum()/len(loan_dataset.index))"
   ]
  },
  {
   "cell_type": "markdown",
   "id": "2fdebff0",
   "metadata": {},
   "source": [
    "Description and mths_since_last_delinq sill shows 32 and 64 % of data missing. lets review this data and proceed accordingly\n"
   ]
  },
  {
   "cell_type": "code",
   "execution_count": 320,
   "id": "ea33f820",
   "metadata": {},
   "outputs": [
    {
     "data": {
      "text/html": [
       "<div>\n",
       "<style scoped>\n",
       "    .dataframe tbody tr th:only-of-type {\n",
       "        vertical-align: middle;\n",
       "    }\n",
       "\n",
       "    .dataframe tbody tr th {\n",
       "        vertical-align: top;\n",
       "    }\n",
       "\n",
       "    .dataframe thead th {\n",
       "        text-align: right;\n",
       "    }\n",
       "</style>\n",
       "<table border=\"1\" class=\"dataframe\">\n",
       "  <thead>\n",
       "    <tr style=\"text-align: right;\">\n",
       "      <th></th>\n",
       "      <th>desc</th>\n",
       "      <th>mths_since_last_delinq</th>\n",
       "    </tr>\n",
       "  </thead>\n",
       "  <tbody>\n",
       "    <tr>\n",
       "      <th>0</th>\n",
       "      <td>Borrower added on 12/22/11 &gt; I need to upgra...</td>\n",
       "      <td>NaN</td>\n",
       "    </tr>\n",
       "    <tr>\n",
       "      <th>1</th>\n",
       "      <td>Borrower added on 12/22/11 &gt; I plan to use t...</td>\n",
       "      <td>NaN</td>\n",
       "    </tr>\n",
       "    <tr>\n",
       "      <th>2</th>\n",
       "      <td>NaN</td>\n",
       "      <td>NaN</td>\n",
       "    </tr>\n",
       "    <tr>\n",
       "      <th>3</th>\n",
       "      <td>Borrower added on 12/21/11 &gt; to pay for prop...</td>\n",
       "      <td>35.0</td>\n",
       "    </tr>\n",
       "    <tr>\n",
       "      <th>4</th>\n",
       "      <td>Borrower added on 12/21/11 &gt; I plan on combi...</td>\n",
       "      <td>38.0</td>\n",
       "    </tr>\n",
       "  </tbody>\n",
       "</table>\n",
       "</div>"
      ],
      "text/plain": [
       "                                                desc  mths_since_last_delinq\n",
       "0    Borrower added on 12/22/11 > I need to upgra...                     NaN\n",
       "1    Borrower added on 12/22/11 > I plan to use t...                     NaN\n",
       "2                                                NaN                     NaN\n",
       "3    Borrower added on 12/21/11 > to pay for prop...                    35.0\n",
       "4    Borrower added on 12/21/11 > I plan on combi...                    38.0"
      ]
     },
     "execution_count": 320,
     "metadata": {},
     "output_type": "execute_result"
    }
   ],
   "source": [
    "loan_dataset.loc[:,['desc','mths_since_last_delinq']].head()"
   ]
  },
  {
   "cell_type": "markdown",
   "id": "e07e25db",
   "metadata": {},
   "source": [
    "Description is hand written text by user at the moment we cannot use this column\n",
    "\n",
    "mths_since_last_delinq is the data that generated post LOAN is given, so we cannot use this variable to idenitfy if a person will be able to repay the loan\n",
    "\n",
    "hence dropping these two columns as well"
   ]
  },
  {
   "cell_type": "code",
   "execution_count": 321,
   "id": "e170a5bd",
   "metadata": {},
   "outputs": [],
   "source": [
    "loan_dataset.drop(['desc','mths_since_last_delinq'],axis=1,inplace=True)"
   ]
  },
  {
   "cell_type": "code",
   "execution_count": 322,
   "id": "fd20bfde",
   "metadata": {},
   "outputs": [
    {
     "data": {
      "text/plain": [
       "id                            0.000000\n",
       "member_id                     0.000000\n",
       "loan_amnt                     0.000000\n",
       "funded_amnt                   0.000000\n",
       "funded_amnt_inv               0.000000\n",
       "term                          0.000000\n",
       "int_rate                      0.000000\n",
       "installment                   0.000000\n",
       "grade                         0.000000\n",
       "sub_grade                     0.000000\n",
       "emp_title                     6.191303\n",
       "emp_length                    2.706650\n",
       "home_ownership                0.000000\n",
       "annual_inc                    0.000000\n",
       "verification_status           0.000000\n",
       "issue_d                       0.000000\n",
       "loan_status                   0.000000\n",
       "pymnt_plan                    0.000000\n",
       "url                           0.000000\n",
       "purpose                       0.000000\n",
       "title                         0.027696\n",
       "zip_code                      0.000000\n",
       "addr_state                    0.000000\n",
       "dti                           0.000000\n",
       "delinq_2yrs                   0.000000\n",
       "earliest_cr_line              0.000000\n",
       "inq_last_6mths                0.000000\n",
       "open_acc                      0.000000\n",
       "pub_rec                       0.000000\n",
       "revol_bal                     0.000000\n",
       "revol_util                    0.125891\n",
       "total_acc                     0.000000\n",
       "initial_list_status           0.000000\n",
       "out_prncp                     0.000000\n",
       "out_prncp_inv                 0.000000\n",
       "total_pymnt                   0.000000\n",
       "total_pymnt_inv               0.000000\n",
       "total_rec_prncp               0.000000\n",
       "total_rec_int                 0.000000\n",
       "total_rec_late_fee            0.000000\n",
       "recoveries                    0.000000\n",
       "collection_recovery_fee       0.000000\n",
       "last_pymnt_d                  0.178765\n",
       "last_pymnt_amnt               0.000000\n",
       "last_credit_pull_d            0.005036\n",
       "collections_12_mths_ex_med    0.140998\n",
       "policy_code                   0.000000\n",
       "application_type              0.000000\n",
       "acc_now_delinq                0.000000\n",
       "chargeoff_within_12_mths      0.140998\n",
       "delinq_amnt                   0.000000\n",
       "pub_rec_bankruptcies          1.754916\n",
       "tax_liens                     0.098195\n",
       "dtype: float64"
      ]
     },
     "execution_count": 322,
     "metadata": {},
     "output_type": "execute_result"
    }
   ],
   "source": [
    "#Rechecking Nulls \n",
    "100*(loan_dataset.isnull().sum()/len(loan_dataset.index))"
   ]
  },
  {
   "cell_type": "markdown",
   "id": "0a053c4c",
   "metadata": {},
   "source": [
    "There are minimal Nulls values as of now we can go ahead with this, as we are not building actual model right now."
   ]
  },
  {
   "cell_type": "code",
   "execution_count": 323,
   "id": "ca076084",
   "metadata": {},
   "outputs": [
    {
     "data": {
      "text/plain": [
       "0        1\n",
       "1        0\n",
       "2        1\n",
       "3        0\n",
       "4        0\n",
       "        ..\n",
       "39712    4\n",
       "39713    4\n",
       "39714    5\n",
       "39715    5\n",
       "39716    4\n",
       "Length: 39717, dtype: int64"
      ]
     },
     "execution_count": 323,
     "metadata": {},
     "output_type": "execute_result"
    }
   ],
   "source": [
    "#missing values in Row\n",
    "loan_dataset.isnull().sum(axis=1)\n",
    "\n"
   ]
  },
  {
   "cell_type": "code",
   "execution_count": 324,
   "id": "58ed756d",
   "metadata": {},
   "outputs": [
    {
     "data": {
      "text/plain": [
       "0"
      ]
     },
     "execution_count": 324,
     "metadata": {},
     "output_type": "execute_result"
    }
   ],
   "source": [
    "#check wheter a row has more than 5 missing values or not\n",
    "len(loan_dataset[loan_dataset.isnull().sum(axis=1)>5].index)\n",
    "\n"
   ]
  },
  {
   "cell_type": "markdown",
   "id": "9f1832fe",
   "metadata": {},
   "source": [
    "## Lets start checking their formats"
   ]
  },
  {
   "cell_type": "code",
   "execution_count": 325,
   "id": "d2d0fc49",
   "metadata": {},
   "outputs": [
    {
     "name": "stdout",
     "output_type": "stream",
     "text": [
      "<class 'pandas.core.frame.DataFrame'>\n",
      "RangeIndex: 39717 entries, 0 to 39716\n",
      "Data columns (total 53 columns):\n",
      " #   Column                      Non-Null Count  Dtype  \n",
      "---  ------                      --------------  -----  \n",
      " 0   id                          39717 non-null  int64  \n",
      " 1   member_id                   39717 non-null  int64  \n",
      " 2   loan_amnt                   39717 non-null  int64  \n",
      " 3   funded_amnt                 39717 non-null  int64  \n",
      " 4   funded_amnt_inv             39717 non-null  float64\n",
      " 5   term                        39717 non-null  object \n",
      " 6   int_rate                    39717 non-null  object \n",
      " 7   installment                 39717 non-null  float64\n",
      " 8   grade                       39717 non-null  object \n",
      " 9   sub_grade                   39717 non-null  object \n",
      " 10  emp_title                   37258 non-null  object \n",
      " 11  emp_length                  38642 non-null  object \n",
      " 12  home_ownership              39717 non-null  object \n",
      " 13  annual_inc                  39717 non-null  float64\n",
      " 14  verification_status         39717 non-null  object \n",
      " 15  issue_d                     39717 non-null  object \n",
      " 16  loan_status                 39717 non-null  object \n",
      " 17  pymnt_plan                  39717 non-null  object \n",
      " 18  url                         39717 non-null  object \n",
      " 19  purpose                     39717 non-null  object \n",
      " 20  title                       39706 non-null  object \n",
      " 21  zip_code                    39717 non-null  object \n",
      " 22  addr_state                  39717 non-null  object \n",
      " 23  dti                         39717 non-null  float64\n",
      " 24  delinq_2yrs                 39717 non-null  int64  \n",
      " 25  earliest_cr_line            39717 non-null  object \n",
      " 26  inq_last_6mths              39717 non-null  int64  \n",
      " 27  open_acc                    39717 non-null  int64  \n",
      " 28  pub_rec                     39717 non-null  int64  \n",
      " 29  revol_bal                   39717 non-null  int64  \n",
      " 30  revol_util                  39667 non-null  object \n",
      " 31  total_acc                   39717 non-null  int64  \n",
      " 32  initial_list_status         39717 non-null  object \n",
      " 33  out_prncp                   39717 non-null  float64\n",
      " 34  out_prncp_inv               39717 non-null  float64\n",
      " 35  total_pymnt                 39717 non-null  float64\n",
      " 36  total_pymnt_inv             39717 non-null  float64\n",
      " 37  total_rec_prncp             39717 non-null  float64\n",
      " 38  total_rec_int               39717 non-null  float64\n",
      " 39  total_rec_late_fee          39717 non-null  float64\n",
      " 40  recoveries                  39717 non-null  float64\n",
      " 41  collection_recovery_fee     39717 non-null  float64\n",
      " 42  last_pymnt_d                39646 non-null  object \n",
      " 43  last_pymnt_amnt             39717 non-null  float64\n",
      " 44  last_credit_pull_d          39715 non-null  object \n",
      " 45  collections_12_mths_ex_med  39661 non-null  float64\n",
      " 46  policy_code                 39717 non-null  int64  \n",
      " 47  application_type            39717 non-null  object \n",
      " 48  acc_now_delinq              39717 non-null  int64  \n",
      " 49  chargeoff_within_12_mths    39661 non-null  float64\n",
      " 50  delinq_amnt                 39717 non-null  int64  \n",
      " 51  pub_rec_bankruptcies        39020 non-null  float64\n",
      " 52  tax_liens                   39678 non-null  float64\n",
      "dtypes: float64(18), int64(13), object(22)\n",
      "memory usage: 16.1+ MB\n"
     ]
    }
   ],
   "source": [
    "loan_dataset.info()"
   ]
  },
  {
   "cell_type": "code",
   "execution_count": 326,
   "id": "b3379ffb",
   "metadata": {},
   "outputs": [],
   "source": [
    "#fixing Interest Rate, removing % from string\n",
    "loan_dataset['int_rate']=loan_dataset['int_rate'].apply(lambda x:str(x).replace('%',''))\n",
    "\n",
    "loan_dataset['int_rate']=loan_dataset['int_rate'].astype(float)"
   ]
  },
  {
   "cell_type": "code",
   "execution_count": 327,
   "id": "8880849f",
   "metadata": {},
   "outputs": [
    {
     "data": {
      "text/plain": [
       "0        10years\n",
       "1          1year\n",
       "2        10years\n",
       "3        10years\n",
       "4          1year\n",
       "          ...   \n",
       "39712     4years\n",
       "39713     3years\n",
       "39714      1year\n",
       "39715      1year\n",
       "39716      1year\n",
       "Name: emp_length, Length: 39717, dtype: object"
      ]
     },
     "execution_count": 327,
     "metadata": {},
     "output_type": "execute_result"
    }
   ],
   "source": [
    "#fixing emp_length\n",
    "\n",
    "loan_dataset['emp_length'].apply(lambda x:re.sub(\"[^A-Za-z0-9]+\",\"\",str(x).strip()))\n"
   ]
  },
  {
   "cell_type": "code",
   "execution_count": 328,
   "id": "2d2d8718",
   "metadata": {},
   "outputs": [],
   "source": [
    "#fixing term\n",
    "loan_dataset['term']=loan_dataset['term'].apply(lambda x:re.sub(\"[a-z]\",\"\",str(x).strip()))\n",
    "\n"
   ]
  },
  {
   "cell_type": "markdown",
   "id": "6a4f5342",
   "metadata": {},
   "source": [
    "Types of variables -\n",
    "\n",
    "1. those which are applicable to applicant\n",
    "    (age,occupation,employement detail etc)\n",
    "2. Loan Characterstic\n",
    "    (amount of loan, intrest rate,purpose of loan etc)\n",
    "3. Customer behavior ( post loan approval )   - REMOVE THESE FROM DATASET WHICH WE DO NOT NEED\n",
    "\n",
    "\n",
    "Univariate analysis\n",
    "Bivariate Analysus\n",
    "\n",
    "use log scale\n",
    "\n",
    "use seaborn - > box plot, distribution etc see screenshot in phone\n",
    "\n"
   ]
  },
  {
   "cell_type": "code",
   "execution_count": 329,
   "id": "ba5e4c5e",
   "metadata": {},
   "outputs": [],
   "source": [
    "#columns that got generated post LOAN Approval ,\n",
    "\n",
    "remove_post_approval_columns=['open_acc', 'pub_rec', 'revol_bal', 'revol_util',\n",
    "       'total_acc', 'initial_list_status', 'out_prncp', 'out_prncp_inv',\n",
    "       'total_pymnt', 'total_pymnt_inv', 'total_rec_prncp', 'total_rec_int',\n",
    "       'total_rec_late_fee', 'recoveries', 'collection_recovery_fee',\n",
    "       'last_pymnt_d', 'last_pymnt_amnt', 'last_credit_pull_d',\n",
    "       'collections_12_mths_ex_med', 'policy_code',\n",
    "       'acc_now_delinq', 'chargeoff_within_12_mths', 'delinq_amnt',\n",
    "       'pub_rec_bankruptcies', 'tax_liens','delinq_2yrs','url','id','member_id']\n",
    "remove_geographical_data=['zip_code','addr_state']\n",
    "\n",
    "loan_dataset.drop(remove_post_approval_columns,axis=1,inplace=True)\n",
    "loan_dataset.drop(remove_geographical_data,axis=1,inplace=True)\n"
   ]
  },
  {
   "cell_type": "code",
   "execution_count": 330,
   "id": "e47f0a9e",
   "metadata": {},
   "outputs": [
    {
     "data": {
      "text/html": [
       "<div>\n",
       "<style scoped>\n",
       "    .dataframe tbody tr th:only-of-type {\n",
       "        vertical-align: middle;\n",
       "    }\n",
       "\n",
       "    .dataframe tbody tr th {\n",
       "        vertical-align: top;\n",
       "    }\n",
       "\n",
       "    .dataframe thead th {\n",
       "        text-align: right;\n",
       "    }\n",
       "</style>\n",
       "<table border=\"1\" class=\"dataframe\">\n",
       "  <thead>\n",
       "    <tr style=\"text-align: right;\">\n",
       "      <th></th>\n",
       "      <th>loan_amnt</th>\n",
       "      <th>funded_amnt</th>\n",
       "      <th>funded_amnt_inv</th>\n",
       "      <th>term</th>\n",
       "      <th>int_rate</th>\n",
       "      <th>installment</th>\n",
       "      <th>grade</th>\n",
       "      <th>sub_grade</th>\n",
       "      <th>emp_title</th>\n",
       "      <th>emp_length</th>\n",
       "      <th>...</th>\n",
       "      <th>verification_status</th>\n",
       "      <th>issue_d</th>\n",
       "      <th>loan_status</th>\n",
       "      <th>pymnt_plan</th>\n",
       "      <th>purpose</th>\n",
       "      <th>title</th>\n",
       "      <th>dti</th>\n",
       "      <th>earliest_cr_line</th>\n",
       "      <th>inq_last_6mths</th>\n",
       "      <th>application_type</th>\n",
       "    </tr>\n",
       "  </thead>\n",
       "  <tbody>\n",
       "    <tr>\n",
       "      <th>0</th>\n",
       "      <td>5000</td>\n",
       "      <td>5000</td>\n",
       "      <td>4975.0</td>\n",
       "      <td>36</td>\n",
       "      <td>10.65</td>\n",
       "      <td>162.87</td>\n",
       "      <td>B</td>\n",
       "      <td>B2</td>\n",
       "      <td>NaN</td>\n",
       "      <td>10+ years</td>\n",
       "      <td>...</td>\n",
       "      <td>Verified</td>\n",
       "      <td>Dec-11</td>\n",
       "      <td>Fully Paid</td>\n",
       "      <td>n</td>\n",
       "      <td>credit_card</td>\n",
       "      <td>Computer</td>\n",
       "      <td>27.65</td>\n",
       "      <td>Jan-85</td>\n",
       "      <td>1</td>\n",
       "      <td>INDIVIDUAL</td>\n",
       "    </tr>\n",
       "    <tr>\n",
       "      <th>1</th>\n",
       "      <td>2500</td>\n",
       "      <td>2500</td>\n",
       "      <td>2500.0</td>\n",
       "      <td>60</td>\n",
       "      <td>15.27</td>\n",
       "      <td>59.83</td>\n",
       "      <td>C</td>\n",
       "      <td>C4</td>\n",
       "      <td>Ryder</td>\n",
       "      <td>&lt; 1 year</td>\n",
       "      <td>...</td>\n",
       "      <td>Source Verified</td>\n",
       "      <td>Dec-11</td>\n",
       "      <td>Charged Off</td>\n",
       "      <td>n</td>\n",
       "      <td>car</td>\n",
       "      <td>bike</td>\n",
       "      <td>1.00</td>\n",
       "      <td>Apr-99</td>\n",
       "      <td>5</td>\n",
       "      <td>INDIVIDUAL</td>\n",
       "    </tr>\n",
       "    <tr>\n",
       "      <th>2</th>\n",
       "      <td>2400</td>\n",
       "      <td>2400</td>\n",
       "      <td>2400.0</td>\n",
       "      <td>36</td>\n",
       "      <td>15.96</td>\n",
       "      <td>84.33</td>\n",
       "      <td>C</td>\n",
       "      <td>C5</td>\n",
       "      <td>NaN</td>\n",
       "      <td>10+ years</td>\n",
       "      <td>...</td>\n",
       "      <td>Not Verified</td>\n",
       "      <td>Dec-11</td>\n",
       "      <td>Fully Paid</td>\n",
       "      <td>n</td>\n",
       "      <td>small_business</td>\n",
       "      <td>real estate business</td>\n",
       "      <td>8.72</td>\n",
       "      <td>Nov-01</td>\n",
       "      <td>2</td>\n",
       "      <td>INDIVIDUAL</td>\n",
       "    </tr>\n",
       "    <tr>\n",
       "      <th>3</th>\n",
       "      <td>10000</td>\n",
       "      <td>10000</td>\n",
       "      <td>10000.0</td>\n",
       "      <td>36</td>\n",
       "      <td>13.49</td>\n",
       "      <td>339.31</td>\n",
       "      <td>C</td>\n",
       "      <td>C1</td>\n",
       "      <td>AIR RESOURCES BOARD</td>\n",
       "      <td>10+ years</td>\n",
       "      <td>...</td>\n",
       "      <td>Source Verified</td>\n",
       "      <td>Dec-11</td>\n",
       "      <td>Fully Paid</td>\n",
       "      <td>n</td>\n",
       "      <td>other</td>\n",
       "      <td>personel</td>\n",
       "      <td>20.00</td>\n",
       "      <td>Feb-96</td>\n",
       "      <td>1</td>\n",
       "      <td>INDIVIDUAL</td>\n",
       "    </tr>\n",
       "    <tr>\n",
       "      <th>4</th>\n",
       "      <td>3000</td>\n",
       "      <td>3000</td>\n",
       "      <td>3000.0</td>\n",
       "      <td>60</td>\n",
       "      <td>12.69</td>\n",
       "      <td>67.79</td>\n",
       "      <td>B</td>\n",
       "      <td>B5</td>\n",
       "      <td>University Medical Group</td>\n",
       "      <td>1 year</td>\n",
       "      <td>...</td>\n",
       "      <td>Source Verified</td>\n",
       "      <td>Dec-11</td>\n",
       "      <td>Current</td>\n",
       "      <td>n</td>\n",
       "      <td>other</td>\n",
       "      <td>Personal</td>\n",
       "      <td>17.94</td>\n",
       "      <td>Jan-96</td>\n",
       "      <td>0</td>\n",
       "      <td>INDIVIDUAL</td>\n",
       "    </tr>\n",
       "  </tbody>\n",
       "</table>\n",
       "<p>5 rows × 22 columns</p>\n",
       "</div>"
      ],
      "text/plain": [
       "   loan_amnt  funded_amnt  funded_amnt_inv term  int_rate  installment grade  \\\n",
       "0       5000         5000           4975.0  36      10.65       162.87     B   \n",
       "1       2500         2500           2500.0  60      15.27        59.83     C   \n",
       "2       2400         2400           2400.0  36      15.96        84.33     C   \n",
       "3      10000        10000          10000.0  36      13.49       339.31     C   \n",
       "4       3000         3000           3000.0  60      12.69        67.79     B   \n",
       "\n",
       "  sub_grade                 emp_title emp_length  ... verification_status  \\\n",
       "0        B2                       NaN  10+ years  ...            Verified   \n",
       "1        C4                     Ryder   < 1 year  ...     Source Verified   \n",
       "2        C5                       NaN  10+ years  ...        Not Verified   \n",
       "3        C1       AIR RESOURCES BOARD  10+ years  ...     Source Verified   \n",
       "4        B5  University Medical Group     1 year  ...     Source Verified   \n",
       "\n",
       "   issue_d  loan_status pymnt_plan         purpose                 title  \\\n",
       "0   Dec-11   Fully Paid          n     credit_card              Computer   \n",
       "1   Dec-11  Charged Off          n             car                  bike   \n",
       "2   Dec-11   Fully Paid          n  small_business  real estate business   \n",
       "3   Dec-11   Fully Paid          n           other              personel   \n",
       "4   Dec-11      Current          n           other              Personal   \n",
       "\n",
       "     dti earliest_cr_line  inq_last_6mths application_type  \n",
       "0  27.65           Jan-85               1       INDIVIDUAL  \n",
       "1   1.00           Apr-99               5       INDIVIDUAL  \n",
       "2   8.72           Nov-01               2       INDIVIDUAL  \n",
       "3  20.00           Feb-96               1       INDIVIDUAL  \n",
       "4  17.94           Jan-96               0       INDIVIDUAL  \n",
       "\n",
       "[5 rows x 22 columns]"
      ]
     },
     "execution_count": 330,
     "metadata": {},
     "output_type": "execute_result"
    }
   ],
   "source": [
    "loan_dataset.head()"
   ]
  },
  {
   "cell_type": "code",
   "execution_count": 331,
   "id": "c9046e70",
   "metadata": {},
   "outputs": [],
   "source": [
    "#Remove CURRENT FROM LOAN STATUS as that will be ongoing loan data\n",
    "\n",
    "loan_dataset=loan_dataset[loan_dataset['loan_status']!='Current']\n",
    "\n",
    "\n",
    "#change loan status to 0(CHARGED OFF) and 1(FULLYPAID)\n",
    "\n",
    "loan_dataset['loan_status']=loan_dataset.loan_status.apply(lambda x: 1 if x=='Fully Paid' else 0)\n",
    "\n",
    "\n",
    "#updating verification_status to numeric \n",
    "\n",
    "\n"
   ]
  },
  {
   "cell_type": "code",
   "execution_count": 332,
   "id": "8b247873",
   "metadata": {},
   "outputs": [
    {
     "data": {
      "text/html": [
       "<div>\n",
       "<style scoped>\n",
       "    .dataframe tbody tr th:only-of-type {\n",
       "        vertical-align: middle;\n",
       "    }\n",
       "\n",
       "    .dataframe tbody tr th {\n",
       "        vertical-align: top;\n",
       "    }\n",
       "\n",
       "    .dataframe thead th {\n",
       "        text-align: right;\n",
       "    }\n",
       "</style>\n",
       "<table border=\"1\" class=\"dataframe\">\n",
       "  <thead>\n",
       "    <tr style=\"text-align: right;\">\n",
       "      <th></th>\n",
       "      <th>loan_amnt</th>\n",
       "      <th>funded_amnt</th>\n",
       "      <th>funded_amnt_inv</th>\n",
       "      <th>term</th>\n",
       "      <th>int_rate</th>\n",
       "      <th>installment</th>\n",
       "      <th>grade</th>\n",
       "      <th>sub_grade</th>\n",
       "      <th>emp_title</th>\n",
       "      <th>emp_length</th>\n",
       "      <th>...</th>\n",
       "      <th>verification_status</th>\n",
       "      <th>issue_d</th>\n",
       "      <th>loan_status</th>\n",
       "      <th>pymnt_plan</th>\n",
       "      <th>purpose</th>\n",
       "      <th>title</th>\n",
       "      <th>dti</th>\n",
       "      <th>earliest_cr_line</th>\n",
       "      <th>inq_last_6mths</th>\n",
       "      <th>application_type</th>\n",
       "    </tr>\n",
       "  </thead>\n",
       "  <tbody>\n",
       "    <tr>\n",
       "      <th>0</th>\n",
       "      <td>5000</td>\n",
       "      <td>5000</td>\n",
       "      <td>4975.0</td>\n",
       "      <td>36</td>\n",
       "      <td>10.65</td>\n",
       "      <td>162.87</td>\n",
       "      <td>B</td>\n",
       "      <td>B2</td>\n",
       "      <td>NaN</td>\n",
       "      <td>10+ years</td>\n",
       "      <td>...</td>\n",
       "      <td>Verified</td>\n",
       "      <td>Dec-11</td>\n",
       "      <td>1</td>\n",
       "      <td>n</td>\n",
       "      <td>credit_card</td>\n",
       "      <td>Computer</td>\n",
       "      <td>27.65</td>\n",
       "      <td>Jan-85</td>\n",
       "      <td>1</td>\n",
       "      <td>INDIVIDUAL</td>\n",
       "    </tr>\n",
       "    <tr>\n",
       "      <th>1</th>\n",
       "      <td>2500</td>\n",
       "      <td>2500</td>\n",
       "      <td>2500.0</td>\n",
       "      <td>60</td>\n",
       "      <td>15.27</td>\n",
       "      <td>59.83</td>\n",
       "      <td>C</td>\n",
       "      <td>C4</td>\n",
       "      <td>Ryder</td>\n",
       "      <td>&lt; 1 year</td>\n",
       "      <td>...</td>\n",
       "      <td>Source Verified</td>\n",
       "      <td>Dec-11</td>\n",
       "      <td>0</td>\n",
       "      <td>n</td>\n",
       "      <td>car</td>\n",
       "      <td>bike</td>\n",
       "      <td>1.00</td>\n",
       "      <td>Apr-99</td>\n",
       "      <td>5</td>\n",
       "      <td>INDIVIDUAL</td>\n",
       "    </tr>\n",
       "    <tr>\n",
       "      <th>2</th>\n",
       "      <td>2400</td>\n",
       "      <td>2400</td>\n",
       "      <td>2400.0</td>\n",
       "      <td>36</td>\n",
       "      <td>15.96</td>\n",
       "      <td>84.33</td>\n",
       "      <td>C</td>\n",
       "      <td>C5</td>\n",
       "      <td>NaN</td>\n",
       "      <td>10+ years</td>\n",
       "      <td>...</td>\n",
       "      <td>Not Verified</td>\n",
       "      <td>Dec-11</td>\n",
       "      <td>1</td>\n",
       "      <td>n</td>\n",
       "      <td>small_business</td>\n",
       "      <td>real estate business</td>\n",
       "      <td>8.72</td>\n",
       "      <td>Nov-01</td>\n",
       "      <td>2</td>\n",
       "      <td>INDIVIDUAL</td>\n",
       "    </tr>\n",
       "    <tr>\n",
       "      <th>3</th>\n",
       "      <td>10000</td>\n",
       "      <td>10000</td>\n",
       "      <td>10000.0</td>\n",
       "      <td>36</td>\n",
       "      <td>13.49</td>\n",
       "      <td>339.31</td>\n",
       "      <td>C</td>\n",
       "      <td>C1</td>\n",
       "      <td>AIR RESOURCES BOARD</td>\n",
       "      <td>10+ years</td>\n",
       "      <td>...</td>\n",
       "      <td>Source Verified</td>\n",
       "      <td>Dec-11</td>\n",
       "      <td>1</td>\n",
       "      <td>n</td>\n",
       "      <td>other</td>\n",
       "      <td>personel</td>\n",
       "      <td>20.00</td>\n",
       "      <td>Feb-96</td>\n",
       "      <td>1</td>\n",
       "      <td>INDIVIDUAL</td>\n",
       "    </tr>\n",
       "    <tr>\n",
       "      <th>5</th>\n",
       "      <td>5000</td>\n",
       "      <td>5000</td>\n",
       "      <td>5000.0</td>\n",
       "      <td>36</td>\n",
       "      <td>7.90</td>\n",
       "      <td>156.46</td>\n",
       "      <td>A</td>\n",
       "      <td>A4</td>\n",
       "      <td>Veolia Transportaton</td>\n",
       "      <td>3 years</td>\n",
       "      <td>...</td>\n",
       "      <td>Source Verified</td>\n",
       "      <td>Dec-11</td>\n",
       "      <td>1</td>\n",
       "      <td>n</td>\n",
       "      <td>wedding</td>\n",
       "      <td>My wedding loan I promise to pay back</td>\n",
       "      <td>11.20</td>\n",
       "      <td>Nov-04</td>\n",
       "      <td>3</td>\n",
       "      <td>INDIVIDUAL</td>\n",
       "    </tr>\n",
       "  </tbody>\n",
       "</table>\n",
       "<p>5 rows × 22 columns</p>\n",
       "</div>"
      ],
      "text/plain": [
       "   loan_amnt  funded_amnt  funded_amnt_inv term  int_rate  installment grade  \\\n",
       "0       5000         5000           4975.0  36      10.65       162.87     B   \n",
       "1       2500         2500           2500.0  60      15.27        59.83     C   \n",
       "2       2400         2400           2400.0  36      15.96        84.33     C   \n",
       "3      10000        10000          10000.0  36      13.49       339.31     C   \n",
       "5       5000         5000           5000.0  36       7.90       156.46     A   \n",
       "\n",
       "  sub_grade             emp_title emp_length  ... verification_status  \\\n",
       "0        B2                   NaN  10+ years  ...            Verified   \n",
       "1        C4                 Ryder   < 1 year  ...     Source Verified   \n",
       "2        C5                   NaN  10+ years  ...        Not Verified   \n",
       "3        C1   AIR RESOURCES BOARD  10+ years  ...     Source Verified   \n",
       "5        A4  Veolia Transportaton    3 years  ...     Source Verified   \n",
       "\n",
       "   issue_d loan_status pymnt_plan         purpose  \\\n",
       "0   Dec-11           1          n     credit_card   \n",
       "1   Dec-11           0          n             car   \n",
       "2   Dec-11           1          n  small_business   \n",
       "3   Dec-11           1          n           other   \n",
       "5   Dec-11           1          n         wedding   \n",
       "\n",
       "                                   title    dti earliest_cr_line  \\\n",
       "0                               Computer  27.65           Jan-85   \n",
       "1                                   bike   1.00           Apr-99   \n",
       "2                   real estate business   8.72           Nov-01   \n",
       "3                               personel  20.00           Feb-96   \n",
       "5  My wedding loan I promise to pay back  11.20           Nov-04   \n",
       "\n",
       "   inq_last_6mths application_type  \n",
       "0               1       INDIVIDUAL  \n",
       "1               5       INDIVIDUAL  \n",
       "2               2       INDIVIDUAL  \n",
       "3               1       INDIVIDUAL  \n",
       "5               3       INDIVIDUAL  \n",
       "\n",
       "[5 rows x 22 columns]"
      ]
     },
     "execution_count": 332,
     "metadata": {},
     "output_type": "execute_result"
    }
   ],
   "source": [
    "loan_dataset.head()"
   ]
  },
  {
   "cell_type": "code",
   "execution_count": 333,
   "id": "ffc640a8",
   "metadata": {},
   "outputs": [
    {
     "data": {
      "text/plain": [
       "-0.21139019019940325"
      ]
     },
     "execution_count": 333,
     "metadata": {},
     "output_type": "execute_result"
    }
   ],
   "source": [
    "#find corelation between loan status and int rate\n",
    "\n",
    "loan_dataset['loan_status'].corr(loan_dataset['int_rate'])"
   ]
  },
  {
   "cell_type": "code",
   "execution_count": 334,
   "id": "2723e47c",
   "metadata": {},
   "outputs": [
    {
     "data": {
      "text/plain": [
       "<Figure size 1500x800 with 0 Axes>"
      ]
     },
     "metadata": {},
     "output_type": "display_data"
    }
   ],
   "source": [
    "\n",
    "plt.figure(figsize=(15,8))\n",
    "sns.set_theme(style='darkgrid')"
   ]
  },
  {
   "cell_type": "code",
   "execution_count": 335,
   "id": "41b87292",
   "metadata": {},
   "outputs": [
    {
     "data": {
      "text/plain": [
       "<Axes: xlabel='loan_status', ylabel='int_rate'>"
      ]
     },
     "execution_count": 335,
     "metadata": {},
     "output_type": "execute_result"
    },
    {
     "data": {
      "image/png": "[encoded data removed]",
      "text/plain": [
       "<Figure size 640x480 with 1 Axes>"
      ]
     },
     "metadata": {},
     "output_type": "display_data"
    }
   ],
   "source": [
    "#scatter plot on intrest rate and loan status\n",
    "import seaborn as sns\n",
    "sns.boxplot(data=loan_dataset,x='loan_status',y='int_rate')\n",
    "\n",
    "#we can see people who have higher interest rates have higher chances of getting a charged off"
   ]
  },
  {
   "cell_type": "code",
   "execution_count": 336,
   "id": "91899a4c",
   "metadata": {},
   "outputs": [
    {
     "data": {
      "text/plain": [
       "<Axes: xlabel='loan_status', ylabel='annual_inc'>"
      ]
     },
     "execution_count": 336,
     "metadata": {},
     "output_type": "execute_result"
    },
    {
     "data": {
      "image/png": "[encoded data removed]",
      "text/plain": [
       "<Figure size 640x480 with 1 Axes>"
      ]
     },
     "metadata": {},
     "output_type": "display_data"
    }
   ],
   "source": [
    "sns.boxplot(data=loan_dataset,x='loan_status',y='annual_inc')\n",
    "\n",
    "#we can see people who have higher interest rates have higher chances of getting a charged off"
   ]
  },
  {
   "cell_type": "code",
   "execution_count": 337,
   "id": "b9dba3a9",
   "metadata": {},
   "outputs": [
    {
     "data": {
      "text/plain": [
       "<Axes: xlabel='loan_status', ylabel='annual_inc'>"
      ]
     },
     "execution_count": 337,
     "metadata": {},
     "output_type": "execute_result"
    },
    {
     "data": {
      "image/png": "[encoded data removed]",
      "text/plain": [
       "<Figure size 640x480 with 1 Axes>"
      ]
     },
     "metadata": {},
     "output_type": "display_data"
    }
   ],
   "source": [
    "#remove outliers from salary\n",
    "\n",
    "loan_dataset=loan_dataset[loan_dataset['annual_inc']<100000]\n",
    "sns.boxplot(data=loan_dataset,x='loan_status',y='annual_inc')\n",
    "\n",
    "#from box plot, on average it is evident that people with less salary are the defaulters"
   ]
  },
  {
   "cell_type": "code",
   "execution_count": 338,
   "id": "05b1125b",
   "metadata": {},
   "outputs": [
    {
     "data": {
      "image/png": "[encoded data removed]",
      "text/plain": [
       "<Figure size 640x480 with 1 Axes>"
      ]
     },
     "metadata": {},
     "output_type": "display_data"
    }
   ],
   "source": [
    "#loan status as per grades\n",
    "\n",
    "sns.barplot(data=loan_dataset,x='grade',y='loan_status')\n",
    "plt.show()\n",
    "\n",
    "#as per data, Grade G,F are the feature that are not able to repay loans\n"
   ]
  },
  {
   "cell_type": "code",
   "execution_count": 340,
   "id": "80234acd",
   "metadata": {},
   "outputs": [
    {
     "data": {
      "text/html": [
       "<div>\n",
       "<style scoped>\n",
       "    .dataframe tbody tr th:only-of-type {\n",
       "        vertical-align: middle;\n",
       "    }\n",
       "\n",
       "    .dataframe tbody tr th {\n",
       "        vertical-align: top;\n",
       "    }\n",
       "\n",
       "    .dataframe thead th {\n",
       "        text-align: right;\n",
       "    }\n",
       "</style>\n",
       "<table border=\"1\" class=\"dataframe\">\n",
       "  <thead>\n",
       "    <tr style=\"text-align: right;\">\n",
       "      <th></th>\n",
       "      <th>loan_amnt</th>\n",
       "      <th>funded_amnt</th>\n",
       "      <th>funded_amnt_inv</th>\n",
       "      <th>term</th>\n",
       "      <th>int_rate</th>\n",
       "      <th>installment</th>\n",
       "      <th>grade</th>\n",
       "      <th>sub_grade</th>\n",
       "      <th>emp_title</th>\n",
       "      <th>emp_length</th>\n",
       "      <th>...</th>\n",
       "      <th>verification_status</th>\n",
       "      <th>issue_d</th>\n",
       "      <th>loan_status</th>\n",
       "      <th>pymnt_plan</th>\n",
       "      <th>purpose</th>\n",
       "      <th>title</th>\n",
       "      <th>dti</th>\n",
       "      <th>earliest_cr_line</th>\n",
       "      <th>inq_last_6mths</th>\n",
       "      <th>application_type</th>\n",
       "    </tr>\n",
       "  </thead>\n",
       "  <tbody>\n",
       "    <tr>\n",
       "      <th>0</th>\n",
       "      <td>5000</td>\n",
       "      <td>5000</td>\n",
       "      <td>4975.0</td>\n",
       "      <td>36</td>\n",
       "      <td>10.65</td>\n",
       "      <td>162.87</td>\n",
       "      <td>B</td>\n",
       "      <td>B2</td>\n",
       "      <td>NaN</td>\n",
       "      <td>10+ years</td>\n",
       "      <td>...</td>\n",
       "      <td>Verified</td>\n",
       "      <td>Dec-11</td>\n",
       "      <td>1</td>\n",
       "      <td>n</td>\n",
       "      <td>credit_card</td>\n",
       "      <td>Computer</td>\n",
       "      <td>27.65</td>\n",
       "      <td>Jan-85</td>\n",
       "      <td>1</td>\n",
       "      <td>INDIVIDUAL</td>\n",
       "    </tr>\n",
       "    <tr>\n",
       "      <th>1</th>\n",
       "      <td>2500</td>\n",
       "      <td>2500</td>\n",
       "      <td>2500.0</td>\n",
       "      <td>60</td>\n",
       "      <td>15.27</td>\n",
       "      <td>59.83</td>\n",
       "      <td>C</td>\n",
       "      <td>C4</td>\n",
       "      <td>Ryder</td>\n",
       "      <td>&lt; 1 year</td>\n",
       "      <td>...</td>\n",
       "      <td>Source Verified</td>\n",
       "      <td>Dec-11</td>\n",
       "      <td>0</td>\n",
       "      <td>n</td>\n",
       "      <td>car</td>\n",
       "      <td>bike</td>\n",
       "      <td>1.00</td>\n",
       "      <td>Apr-99</td>\n",
       "      <td>5</td>\n",
       "      <td>INDIVIDUAL</td>\n",
       "    </tr>\n",
       "    <tr>\n",
       "      <th>2</th>\n",
       "      <td>2400</td>\n",
       "      <td>2400</td>\n",
       "      <td>2400.0</td>\n",
       "      <td>36</td>\n",
       "      <td>15.96</td>\n",
       "      <td>84.33</td>\n",
       "      <td>C</td>\n",
       "      <td>C5</td>\n",
       "      <td>NaN</td>\n",
       "      <td>10+ years</td>\n",
       "      <td>...</td>\n",
       "      <td>Not Verified</td>\n",
       "      <td>Dec-11</td>\n",
       "      <td>1</td>\n",
       "      <td>n</td>\n",
       "      <td>small_business</td>\n",
       "      <td>real estate business</td>\n",
       "      <td>8.72</td>\n",
       "      <td>Nov-01</td>\n",
       "      <td>2</td>\n",
       "      <td>INDIVIDUAL</td>\n",
       "    </tr>\n",
       "    <tr>\n",
       "      <th>3</th>\n",
       "      <td>10000</td>\n",
       "      <td>10000</td>\n",
       "      <td>10000.0</td>\n",
       "      <td>36</td>\n",
       "      <td>13.49</td>\n",
       "      <td>339.31</td>\n",
       "      <td>C</td>\n",
       "      <td>C1</td>\n",
       "      <td>AIR RESOURCES BOARD</td>\n",
       "      <td>10+ years</td>\n",
       "      <td>...</td>\n",
       "      <td>Source Verified</td>\n",
       "      <td>Dec-11</td>\n",
       "      <td>1</td>\n",
       "      <td>n</td>\n",
       "      <td>other</td>\n",
       "      <td>personel</td>\n",
       "      <td>20.00</td>\n",
       "      <td>Feb-96</td>\n",
       "      <td>1</td>\n",
       "      <td>INDIVIDUAL</td>\n",
       "    </tr>\n",
       "    <tr>\n",
       "      <th>5</th>\n",
       "      <td>5000</td>\n",
       "      <td>5000</td>\n",
       "      <td>5000.0</td>\n",
       "      <td>36</td>\n",
       "      <td>7.90</td>\n",
       "      <td>156.46</td>\n",
       "      <td>A</td>\n",
       "      <td>A4</td>\n",
       "      <td>Veolia Transportaton</td>\n",
       "      <td>3 years</td>\n",
       "      <td>...</td>\n",
       "      <td>Source Verified</td>\n",
       "      <td>Dec-11</td>\n",
       "      <td>1</td>\n",
       "      <td>n</td>\n",
       "      <td>wedding</td>\n",
       "      <td>My wedding loan I promise to pay back</td>\n",
       "      <td>11.20</td>\n",
       "      <td>Nov-04</td>\n",
       "      <td>3</td>\n",
       "      <td>INDIVIDUAL</td>\n",
       "    </tr>\n",
       "  </tbody>\n",
       "</table>\n",
       "<p>5 rows × 22 columns</p>\n",
       "</div>"
      ],
      "text/plain": [
       "   loan_amnt  funded_amnt  funded_amnt_inv term  int_rate  installment grade  \\\n",
       "0       5000         5000           4975.0  36      10.65       162.87     B   \n",
       "1       2500         2500           2500.0  60      15.27        59.83     C   \n",
       "2       2400         2400           2400.0  36      15.96        84.33     C   \n",
       "3      10000        10000          10000.0  36      13.49       339.31     C   \n",
       "5       5000         5000           5000.0  36       7.90       156.46     A   \n",
       "\n",
       "  sub_grade             emp_title emp_length  ... verification_status  \\\n",
       "0        B2                   NaN  10+ years  ...            Verified   \n",
       "1        C4                 Ryder   < 1 year  ...     Source Verified   \n",
       "2        C5                   NaN  10+ years  ...        Not Verified   \n",
       "3        C1   AIR RESOURCES BOARD  10+ years  ...     Source Verified   \n",
       "5        A4  Veolia Transportaton    3 years  ...     Source Verified   \n",
       "\n",
       "   issue_d loan_status pymnt_plan         purpose  \\\n",
       "0   Dec-11           1          n     credit_card   \n",
       "1   Dec-11           0          n             car   \n",
       "2   Dec-11           1          n  small_business   \n",
       "3   Dec-11           1          n           other   \n",
       "5   Dec-11           1          n         wedding   \n",
       "\n",
       "                                   title    dti earliest_cr_line  \\\n",
       "0                               Computer  27.65           Jan-85   \n",
       "1                                   bike   1.00           Apr-99   \n",
       "2                   real estate business   8.72           Nov-01   \n",
       "3                               personel  20.00           Feb-96   \n",
       "5  My wedding loan I promise to pay back  11.20           Nov-04   \n",
       "\n",
       "   inq_last_6mths application_type  \n",
       "0               1       INDIVIDUAL  \n",
       "1               5       INDIVIDUAL  \n",
       "2               2       INDIVIDUAL  \n",
       "3               1       INDIVIDUAL  \n",
       "5               3       INDIVIDUAL  \n",
       "\n",
       "[5 rows x 22 columns]"
      ]
     },
     "execution_count": 340,
     "metadata": {},
     "output_type": "execute_result"
    }
   ],
   "source": [
    "loan_dataset.head()"
   ]
  },
  {
   "cell_type": "code",
   "execution_count": 341,
   "id": "efd9ff73",
   "metadata": {},
   "outputs": [],
   "source": [
    "#work with dates (issue_d)\n",
    "\n",
    "loan_dataset['issue_d']=loan_dataset['issue_d'].apply(lambda x:datetime.strptime(x,'%b-%y'))\n",
    "loan_dataset['month']=loan_dataset['issue_d'].apply(lambda x:x.month)\n",
    "loan_dataset['year']=loan_dataset['issue_d'].apply(lambda x:x.year)\n"
   ]
  },
  {
   "cell_type": "code",
   "execution_count": 343,
   "id": "a330445e",
   "metadata": {},
   "outputs": [
    {
     "data": {
      "image/png": "[encoded data removed]",
      "text/plain": [
       "<Figure size 1500x1000 with 1 Axes>"
      ]
     },
     "metadata": {},
     "output_type": "display_data"
    }
   ],
   "source": [
    "#loan status as per grades\n",
    "plt.figure(figsize=(15,10))\n",
    "\n",
    "plot_categorical('sub_grade')\n",
    "\n",
    "#as per data, Grade G,F are the feature that are not able to repay loans\n"
   ]
  },
  {
   "cell_type": "code",
   "execution_count": 344,
   "id": "ea4d86fd",
   "metadata": {},
   "outputs": [
    {
     "data": {
      "image/png": "[encoded data removed]",
      "text/plain": [
       "<Figure size 1500x1000 with 1 Axes>"
      ]
     },
     "metadata": {},
     "output_type": "display_data"
    }
   ],
   "source": [
    "#loan status as per verification Grades\n",
    "plt.figure(figsize=(15,10))\n",
    "\n",
    "plot_categorical('verification_status')\n",
    "\n",
    "#as per data, Grade G,F are the feature that are not able to repay loans\n"
   ]
  },
  {
   "cell_type": "code",
   "execution_count": 345,
   "id": "06944d29",
   "metadata": {},
   "outputs": [
    {
     "data": {
      "text/plain": [
       "year\n",
       "2007      204\n",
       "2008     1347\n",
       "2009     4007\n",
       "2010     9796\n",
       "2011    17244\n",
       "Name: year, dtype: int64"
      ]
     },
     "execution_count": 345,
     "metadata": {},
     "output_type": "execute_result"
    }
   ],
   "source": [
    "\n",
    "loan_dataset.groupby('year').year.count()"
   ]
  },
  {
   "cell_type": "code",
   "execution_count": 346,
   "id": "ec6f3555",
   "metadata": {},
   "outputs": [
    {
     "data": {
      "image/png": "[encoded data removed]",
      "text/plain": [
       "<Figure size 640x480 with 1 Axes>"
      ]
     },
     "metadata": {},
     "output_type": "display_data"
    }
   ],
   "source": [
    "plot_categorical('month')\n"
   ]
  },
  {
   "cell_type": "code",
   "execution_count": 347,
   "id": "d3137c62",
   "metadata": {},
   "outputs": [],
   "source": [
    "#lets categorize Int Rate \n",
    "loan_dataset['int_rate']=loan_dataset['int_rate'].apply(lambda x:\"High\" if x>15  else (\"Medium\" if x>10 and x<=15 else \"Low\"))"
   ]
  },
  {
   "cell_type": "code",
   "execution_count": 348,
   "id": "dd49af26",
   "metadata": {},
   "outputs": [
    {
     "data": {
      "image/png": "[encoded data removed]",
      "text/plain": [
       "<Figure size 640x480 with 1 Axes>"
      ]
     },
     "metadata": {},
     "output_type": "display_data"
    }
   ],
   "source": [
    "plot_categorical('int_rate')\n"
   ]
  },
  {
   "cell_type": "code",
   "execution_count": 349,
   "id": "e2cdf7dd",
   "metadata": {},
   "outputs": [],
   "source": [
    "#lets categorize employee expereince\n",
    "def formatemployee_length(emplength):\n",
    "    emplength=str(emplength)\n",
    "    emplength=re.sub('[a-z]','',emplength)\n",
    "    if(len(emplength)>0):\n",
    "        emplength=emplength.replace('>','')\n",
    "        emplength=emplength.replace('<','')\n",
    "        emplength=emplength.replace('+','')\n",
    "        emplength=emplength.strip()\n",
    "    else:\n",
    "        emplength=0\n",
    "    return float(emplength)\n"
   ]
  },
  {
   "cell_type": "code",
   "execution_count": 350,
   "id": "7f94223c",
   "metadata": {},
   "outputs": [],
   "source": [
    "loan_dataset['emp_length']=loan_dataset['emp_length'].apply(lambda x:formatemployee_length(x))\n",
    "loan_dataset['emp_length']=loan_dataset['emp_length'].apply(lambda x:\"Very Senior\" if x>=10 else (\"Senior\" if x>5 and x<10 else \"Junior\"))\n"
   ]
  },
  {
   "cell_type": "code",
   "execution_count": 352,
   "id": "e61a3e97",
   "metadata": {},
   "outputs": [
    {
     "data": {
      "image/png": "[encoded data removed]",
      "text/plain": [
       "<Figure size 640x480 with 1 Axes>"
      ]
     },
     "metadata": {},
     "output_type": "display_data"
    }
   ],
   "source": [
    "plot_categorical('emp_length')\n",
    "#Very Senior Employees are not in Defaulters list, may be because they are married."
   ]
  },
  {
   "cell_type": "code",
   "execution_count": 355,
   "id": "25033fe3",
   "metadata": {},
   "outputs": [
    {
     "data": {
      "text/plain": [
       "emp_length\n",
       "Junior         20502\n",
       "Very Senior     6612\n",
       "Senior          5484\n",
       "Name: count, dtype: int64"
      ]
     },
     "execution_count": 355,
     "metadata": {},
     "output_type": "execute_result"
    }
   ],
   "source": [
    "loan_dataset['emp_length'].value_counts()"
   ]
  },
  {
   "cell_type": "code",
   "execution_count": null,
   "id": "023dd795",
   "metadata": {},
   "outputs": [],
   "source": [
    "plot_categorical('installment')"
   ]
  }
 ],
 "metadata": {
  "kernelspec": {
   "display_name": "Python 3 (ipykernel)",
   "language": "python",
   "name": "python3"
  },
  "language_info": {
   "codemirror_mode": {
    "name": "ipython",
    "version": 3
   },
   "file_extension": ".py",
   "mimetype": "text/x-python",
   "name": "python",
   "nbconvert_exporter": "python",
   "pygments_lexer": "ipython3",
   "version": "3.10.11"
  }
 },
 "nbformat": 4,
 "nbformat_minor": 5
}
